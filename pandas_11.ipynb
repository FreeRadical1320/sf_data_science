{
 "cells": [
  {
   "cell_type": "code",
   "execution_count": null,
   "metadata": {},
   "outputs": [],
   "source": [
    "import pandas as pd\n",
    "\n",
    "melb_data = pd.read_csv('data/melb_data_ps.csv', sep=',')\n",
    "melb_data.head()"
   ]
  },
  {
   "cell_type": "code",
   "execution_count": null,
   "metadata": {},
   "outputs": [],
   "source": [
    "melb_df = melb_data.copy()\n",
    "melb_df.head()"
   ]
  },
  {
   "cell_type": "code",
   "execution_count": null,
   "metadata": {},
   "outputs": [],
   "source": [
    "display(melb_df.head(3))"
   ]
  },
  {
   "cell_type": "code",
   "execution_count": null,
   "metadata": {},
   "outputs": [],
   "source": [
    "melb_df = melb_df.drop(['index', 'Coordinates'], axis=1)\n",
    "melb_df.head()\n",
    "\"\"\" \n",
    "melb_df.drop(['index','Coordinates'],axis=1,inplace=True)\n",
    "melb_df.head()\n",
    "\"\"\""
   ]
  },
  {
   "cell_type": "code",
   "execution_count": null,
   "metadata": {},
   "outputs": [],
   "source": [
    "#Например, давайте создадим переменную total_rooms, в которой будем хранить общее количество комнат в здании. \n",
    "#Для этого выполним сложение столбцов с количеством комнат, ванн и спален:\n",
    "\n",
    "total_rooms = melb_df['Rooms'] + melb_df['Bedroom'] + melb_df['Bathroom']\n",
    "display(total_rooms)"
   ]
  },
  {
   "cell_type": "code",
   "execution_count": null,
   "metadata": {},
   "outputs": [],
   "source": [
    "#А теперь введём признак MeanRoomsSquare, который соответствует средней площади одной комнаты для каждого объекта. \n",
    "# Для этого разделим площадь здания на полученное ранее общее количество комнат:\n",
    "\n",
    "melb_df['MeanRoomsSquare'] = melb_df['BuildingArea'] / total_rooms\n",
    "display(melb_df['MeanRoomsSquare'])"
   ]
  },
  {
   "cell_type": "code",
   "execution_count": null,
   "metadata": {},
   "outputs": [],
   "source": [
    "diff_area = melb_df['BuildingArea'] - melb_df['Landsize']\n",
    "sum_area = melb_df['BuildingArea'] + melb_df['Landsize']\n",
    "melb_df['AreaRatio'] = diff_area/sum_area\n",
    "display(melb_df['AreaRatio'])"
   ]
  },
  {
   "cell_type": "code",
   "execution_count": null,
   "metadata": {},
   "outputs": [],
   "source": [
    "melb_df.info()"
   ]
  },
  {
   "cell_type": "code",
   "execution_count": null,
   "metadata": {},
   "outputs": [],
   "source": [
    "display(melb_df['Date'])\n",
    "melb_df['Date'] = pd.to_datetime(melb_df['Date'])\n",
    "display(melb_df['Date'])"
   ]
  },
  {
   "cell_type": "code",
   "execution_count": null,
   "metadata": {},
   "outputs": [],
   "source": [
    "years_sold = melb_df['Date'].dt.year\n",
    "print(years_sold)\n",
    "print('Min year sold:', years_sold.min())\n",
    "print('Max year sold:', years_sold.max())\n",
    "print('Mode year sold:', years_sold.mode()[0])"
   ]
  },
  {
   "cell_type": "code",
   "execution_count": null,
   "metadata": {},
   "outputs": [],
   "source": [
    "melb_df['MonthSale'] = melb_df['Date'].dt.month\n",
    "melb_df['MonthSale'].value_counts(normalize=True)"
   ]
  },
  {
   "cell_type": "code",
   "execution_count": null,
   "metadata": {},
   "outputs": [],
   "source": [
    "delta_days = melb_df['Date'] - pd.to_datetime('2016-01-01') \n",
    "display(delta_days)"
   ]
  },
  {
   "cell_type": "code",
   "execution_count": null,
   "metadata": {},
   "outputs": [],
   "source": [
    "display(delta_days.dt.days)"
   ]
  },
  {
   "cell_type": "code",
   "execution_count": null,
   "metadata": {},
   "outputs": [],
   "source": [
    "melb_df['AgeBuilding'] = melb_df['Date'].dt.year - melb_df['YearBuilt']\n",
    "display(melb_df['AgeBuilding'])"
   ]
  },
  {
   "cell_type": "code",
   "execution_count": 29,
   "metadata": {},
   "outputs": [],
   "source": [
    "melb_df = melb_df.drop('YearBuilt', axis=1)"
   ]
  },
  {
   "cell_type": "code",
   "execution_count": 40,
   "metadata": {},
   "outputs": [
    {
     "name": "stdout",
     "output_type": "stream",
     "text": [
      "9226\n"
     ]
    }
   ],
   "source": [
    "#Создайте в таблице melb_df признак WeekdaySale (день недели). \n",
    "# Найдите, сколько объектов недвижимости было продано в выходные (суббота и воскресенье), результат занесите в переменную weekend_count. \n",
    "# В качестве ответа введите результат вывода переменной weekend_count.\n",
    "\n",
    "melb_df['WeekdaySale'] = melb_df['Date'].dt.dayofweek\n",
    "weekend_count = melb_df[melb_df['WeekdaySale'] >= 5 ]['WeekdaySale'].count()\n",
    "\n",
    "print(weekend_count)"
   ]
  },
  {
   "cell_type": "code",
   "execution_count": null,
   "metadata": {},
   "outputs": [],
   "source": [
    "#Вам представлены данные (в формате csv) об отчётах очевидцев НЛО в США за период с 1930 по 2020 год.\n",
    "\n",
    "#В данных есть следующие признаки:\n",
    "#\"City\" — город, где был замечен НЛО;\n",
    "#\"Colors Reported\" — цвет объекта;\n",
    "#\"Shape Reported\" — форма объекта;\n",
    "#\"State\" — обозначение штата;\n",
    "#\"Time\" — время, когда был замечен НЛО (данные отсортированы от старых наблюдений к новым). \n",
    "#Прочитайте данные, сделайте преобразование времени к формату datetime и выполните задания ниже.\n",
    "\n",
    "ufo_data = pd.read_csv('https://raw.githubusercontent.com/justmarkham/pandas-videos/master/data/ufo.csv')\n",
    "display(ufo_data)"
   ]
  },
  {
   "cell_type": "code",
   "execution_count": null,
   "metadata": {},
   "outputs": [],
   "source": [
    "ufo_df = ufo_data.copy()\n",
    "ufo_df.head()\n"
   ]
  },
  {
   "cell_type": "code",
   "execution_count": null,
   "metadata": {},
   "outputs": [],
   "source": [
    "ufo_df['Date'] = pd.to_datetime(ufo_df['Time'])\n",
    "ufo_df.head()\n"
   ]
  },
  {
   "cell_type": "code",
   "execution_count": null,
   "metadata": {},
   "outputs": [],
   "source": [
    "#ufo_df.drop(['Time'], axis= 1, inplace=True)\n",
    "ufo_df.head()"
   ]
  },
  {
   "cell_type": "code",
   "execution_count": null,
   "metadata": {},
   "outputs": [],
   "source": [
    "years_df = ufo_df['Date'].dt.year\n",
    "years_df.value_counts(normalize=True)\n",
    "#years_df['Date'].dt.year.mode()[0]"
   ]
  },
  {
   "cell_type": "code",
   "execution_count": 81,
   "metadata": {},
   "outputs": [
    {
     "data": {
      "text/plain": [
       "76            NaT\n",
       "172     1678 days\n",
       "565     2767 days\n",
       "566        0 days\n",
       "613      290 days\n",
       "           ...   \n",
       "17447     22 days\n",
       "17567     14 days\n",
       "17617      6 days\n",
       "17890     32 days\n",
       "18104     33 days\n",
       "Name: Date, Length: 284, dtype: timedelta64[ns]"
      ]
     },
     "metadata": {},
     "output_type": "display_data"
    },
    {
     "data": {
      "text/plain": [
       "68.92932862190813"
      ]
     },
     "metadata": {},
     "output_type": "display_data"
    }
   ],
   "source": [
    "#Найдите средний интервал времени (в днях) между двумя последовательными случаями наблюдения НЛО в штате Невада (NV).\n",
    "\n",
    "nv_ufo_df = ufo_df[ufo_df['State'] == 'NV']\n",
    "\n",
    "new_nv = nv_ufo_df['Date'].dt.date.diff()\n",
    "\n",
    "\n",
    "display(new_nv)\n",
    "display(new_nv.dt.days.mean())\n"
   ]
  }
 ],
 "metadata": {
  "interpreter": {
   "hash": "529b7f63ca761d478d1bd774f0b581ad3b5625a5e231408b9454a82606df15ca"
  },
  "kernelspec": {
   "display_name": "Python 3.8.12 64-bit ('sf': conda)",
   "language": "python",
   "name": "python3"
  },
  "language_info": {
   "codemirror_mode": {
    "name": "ipython",
    "version": 3
   },
   "file_extension": ".py",
   "mimetype": "text/x-python",
   "name": "python",
   "nbconvert_exporter": "python",
   "pygments_lexer": "ipython3",
   "version": "3.8.12"
  },
  "orig_nbformat": 4
 },
 "nbformat": 4,
 "nbformat_minor": 2
}
