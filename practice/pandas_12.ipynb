{
 "cells": [
  {
   "cell_type": "code",
   "execution_count": null,
   "metadata": {},
   "outputs": [],
   "source": [
    "import pandas as pd\n",
    "\n",
    "melb_df = pd.read_csv('data/melb_data_fe.csv')\n",
    "melb_df.head()"
   ]
  },
  {
   "cell_type": "code",
   "execution_count": null,
   "metadata": {},
   "outputs": [],
   "source": [
    "display(melb_df.info())"
   ]
  },
  {
   "cell_type": "code",
   "execution_count": null,
   "metadata": {},
   "outputs": [],
   "source": [
    "melb_df['Date'] = pd.to_datetime(melb_df['Date'])\n",
    "display(melb_df.info())"
   ]
  },
  {
   "cell_type": "code",
   "execution_count": null,
   "metadata": {},
   "outputs": [],
   "source": [
    "display(melb_df['Date'].dt.quarter.value_counts())"
   ]
  },
  {
   "cell_type": "code",
   "execution_count": null,
   "metadata": {},
   "outputs": [],
   "source": [
    "unique_list = []\n",
    "# пробегаемся по именам столбцов в таблице\n",
    "for col in melb_df.columns:\n",
    "    # создаём кортеж (имя столбца, число уникальных значений)\n",
    "    item = (col, melb_df[col].nunique(),melb_df[col].dtype) \n",
    "    # добавляем кортеж в список\n",
    "    unique_list.append(item) \n",
    "# создаём вспомогательную таблицу и сортируем её\n",
    "unique_counts = pd.DataFrame(\n",
    "    unique_list,\n",
    "    columns=['Column_Name', 'Num_Unique', 'Type']\n",
    ").sort_values(by='Num_Unique',  ignore_index=True)\n",
    "# выводим её на экран\n",
    "display(unique_counts)"
   ]
  },
  {
   "cell_type": "code",
   "execution_count": null,
   "metadata": {},
   "outputs": [],
   "source": [
    "print(unique_list)"
   ]
  },
  {
   "cell_type": "code",
   "execution_count": null,
   "metadata": {},
   "outputs": [],
   "source": [
    "cols_to_exclude = ['Date', 'Rooms', 'Bedroom', 'Bathroom', 'Car'] # список столбцов, которые мы не берём во внимание\n",
    "max_unique_count = 150 # задаём максимальное число уникальных категорий\n",
    "for col in melb_df.columns: # цикл по именам столбцов\n",
    "    if melb_df[col].nunique() < max_unique_count and col not in cols_to_exclude: # проверяем условие\n",
    "        melb_df[col] = melb_df[col].astype('category') # преобразуем тип столбца\n",
    "display(melb_df.info())"
   ]
  },
  {
   "cell_type": "code",
   "execution_count": null,
   "metadata": {},
   "outputs": [],
   "source": [
    "melb_df.sort_values(by='Price').head(10)"
   ]
  },
  {
   "cell_type": "code",
   "execution_count": null,
   "metadata": {},
   "outputs": [],
   "source": [
    "melb_df.sort_values(by='Date', ascending=False)"
   ]
  },
  {
   "cell_type": "code",
   "execution_count": null,
   "metadata": {},
   "outputs": [],
   "source": [
    "melb_df.sort_values(by=['Distance', 'Price']).loc[::10, ['Distance', 'Price']]"
   ]
  },
  {
   "cell_type": "code",
   "execution_count": null,
   "metadata": {},
   "outputs": [],
   "source": [
    "melb_df.sort_values(by=['Price', 'Distance']).loc[::10, ['Price', 'Distance']]"
   ]
  },
  {
   "cell_type": "code",
   "execution_count": null,
   "metadata": {},
   "outputs": [],
   "source": [
    "# Предположим, компания McGrath поручила нам восстановить хронологию продаж таунхаусов, \n",
    "# у которых площадь участка существенно больше площади здания, чтобы понять, \n",
    "# как часто компания справляется с таким сложным видом объектов. \n",
    "# Объекты, проданные в один и тот же день, мы бы хотели сортировать по значению коэффициента соотношения площадей. \n",
    "\n",
    "# Найдём информацию о таунхаусах (Type), проданных компанией (SellerG) McGrath, \n",
    "# у которых коэффициент соотношения площадей здания и участка (AreaRatio) меньше -0.8. \n",
    "# Результат отсортируем по дате продажи (Date) в порядке возрастания, \n",
    "# а после проведём сортировку по убыванию коэффициента соотношения площадей. \n",
    "# Также обновим старые индексы на новые, установив параметр ignore_index на True. \n",
    "# Для наглядности результата выберем из таблицы только столбцы SellerG и AreaRatio:\n",
    "\n",
    "mask1 = melb_df['AreaRatio'] < -0.8\n",
    "mask2 = melb_df['Type'] == 'townhouse'\n",
    "mask3 = melb_df['SellerG'] == 'McGrath'\n",
    "melb_df[mask1 & mask2 & mask3].sort_values(\n",
    "    by=['Date', 'AreaRatio'],\n",
    "    ascending=[True, False],\n",
    "    ignore_index=True\n",
    ").loc[:, ['Date', 'AreaRatio']]"
   ]
  },
  {
   "cell_type": "code",
   "execution_count": null,
   "metadata": {},
   "outputs": [],
   "source": [
    "# Произведите сортировку столбца AreaRatio по убыванию. При этом индексы полученной таблицы замените на новые. \n",
    "# Какое значение площади здания находится в строке 1558? Ответ округлите до целого числа.\n",
    "\n",
    "display(melb_df.sort_values(\n",
    "    by='AreaRatio',\n",
    "    ascending=False,\n",
    "    ignore_index=True\n",
    ")['AreaRatio'])\n",
    "melb_df.loc[1558, 'BuildingArea']\n"
   ]
  },
  {
   "cell_type": "code",
   "execution_count": null,
   "metadata": {},
   "outputs": [],
   "source": [
    "# Найдите таунхаусы (Type) с количеством жилых комнат (Rooms) больше 2. \n",
    "# Отсортируйте полученную таблицу сначала по возрастанию числа комнат, \n",
    "# а затем по убыванию средней площади комнат (MeanRoomsSquare). \n",
    "# Индексы таблицы замените на новые. Какая цена будет у объекта в строке 18? Ответ запишите в виде целого числа.\n",
    "\n",
    "mask1 = melb_df['Type'] == 'townhouse'\n",
    "mask2 = melb_df['Rooms'] > 2\n",
    "display(melb_df[mask1 & mask2].sort_values(\n",
    "    by=['Rooms','MeanRoomsSquare'],\n",
    "    ascending=[True,False],\n",
    "    ignore_index=True\n",
    ").loc[18, 'Price'])"
   ]
  },
  {
   "cell_type": "markdown",
   "metadata": {},
   "source": [
    "МЕТОД GROUPBY()"
   ]
  },
  {
   "cell_type": "code",
   "execution_count": null,
   "metadata": {},
   "outputs": [],
   "source": [
    "melb_df.groupby(by='Type').mean()"
   ]
  },
  {
   "cell_type": "code",
   "execution_count": null,
   "metadata": {},
   "outputs": [],
   "source": [
    "melb_df.groupby('Type')['Price'].mean()"
   ]
  },
  {
   "cell_type": "code",
   "execution_count": null,
   "metadata": {},
   "outputs": [],
   "source": [
    "# Теперь давайте выясним, какие регионы (Regionname) наиболее удалены от центра Мельбурна.\n",
    "# Для этого найдём минимальное значение расстояния от центра города до объекта в зависимости от его региона. \n",
    "# Результат отсортируем по убыванию расстояния:\n",
    "\n",
    "melb_df.groupby('Regionname')['Distance'].min().sort_values(ascending=False)"
   ]
  },
  {
   "cell_type": "code",
   "execution_count": null,
   "metadata": {},
   "outputs": [],
   "source": [
    "# Давайте построим таблицу для анализа продаж по месяцам. \n",
    "# Для этого найдём количество продаж, а также среднее и максимальное значения цен объектов недвижимости (Price), \n",
    "# сгруппированных по номеру месяца продажи (MonthSale). \n",
    "# Результат отсортируем по количеству продаж в порядке убывания:\n",
    "\n",
    "melb_df.groupby('MonthSale')['Price'].agg(\n",
    "    ['count', 'mean', 'max']\n",
    ").sort_values(by='count', ascending=False)"
   ]
  },
  {
   "cell_type": "code",
   "execution_count": null,
   "metadata": {},
   "outputs": [],
   "source": [
    "melb_df.groupby('MonthSale')['Price'].agg('describe')"
   ]
  },
  {
   "cell_type": "code",
   "execution_count": null,
   "metadata": {},
   "outputs": [],
   "source": [
    "# После базовых математических функций наиболее частым агрегированием является подсчёт числа уникальных значений. \n",
    "# Так, например, мы можем вычислить число уникальных риелторских компаний в зависимости от региона, чтобы понять, \n",
    "# в каких регионах конкуренция на рынке недвижимости меньше. Это можно сделать, передав в параметр метода agg() строку 'nunique'. \n",
    "\n",
    "# Более того, метод agg() поддерживает использование и других функций. \n",
    "# Передадим дополнительно встроенную функцию set, чтобы получить множество из агентств недвижимости, которые работают в каждом из регионов:\n",
    "\n",
    "melb_df.groupby('Regionname')['SellerG'].agg(\n",
    "    \t\t['nunique', set]\n",
    ")"
   ]
  },
  {
   "cell_type": "code",
   "execution_count": null,
   "metadata": {},
   "outputs": [],
   "source": [
    "# Сгруппируйте данные по признаку количества комнат и найдите среднюю цену объектов недвижимости в каждой группе. \n",
    "# В качестве ответа запишите количество комнат, для которых средняя цена наибольшая.\n",
    "\n",
    "melb_df.groupby('Rooms')['Price'].mean().sort_values(ascending=False)\n",
    "    "
   ]
  },
  {
   "cell_type": "code",
   "execution_count": null,
   "metadata": {},
   "outputs": [],
   "source": [
    "# Какой регион имеет наименьшую протяжённость по географической широте (Lattitude)?\n",
    "# Для ответа на этот вопрос рассчитайте стандартное отклонение широты для каждого региона.\n",
    "# В качестве ответа запишите название этого региона.\n",
    "\n",
    "melb_df.groupby('Regionname')['Lattitude'].std().sort_values()"
   ]
  },
  {
   "cell_type": "code",
   "execution_count": null,
   "metadata": {},
   "outputs": [],
   "source": [
    "# Какая риелторская компания (SellerG) имеет наименьшую общую выручку за период с 1 мая по 1 сентября (включительно) 2017 года?\n",
    "# Для ответа на этот вопрос рассчитайте сумму продаж (Price) каждой компании в заданный период.\n",
    "# Не забудьте перевести даты в формат datetime\n",
    "\n",
    "mask1 = melb_df['Date'] <= '2017-09-01'\n",
    "mask2 = melb_df['Date'] >= '2017-05-01'\n",
    "melb_df[mask1 & mask2].groupby('SellerG')['Price'].sum().sort_values()"
   ]
  }
 ],
 "metadata": {
  "interpreter": {
   "hash": "529b7f63ca761d478d1bd774f0b581ad3b5625a5e231408b9454a82606df15ca"
  },
  "kernelspec": {
   "display_name": "Python 3.8.12 64-bit ('sf': conda)",
   "language": "python",
   "name": "python3"
  },
  "language_info": {
   "codemirror_mode": {
    "name": "ipython",
    "version": 3
   },
   "file_extension": ".py",
   "mimetype": "text/x-python",
   "name": "python",
   "nbconvert_exporter": "python",
   "pygments_lexer": "ipython3",
   "version": "3.8.12"
  },
  "orig_nbformat": 4
 },
 "nbformat": 4,
 "nbformat_minor": 2
}
