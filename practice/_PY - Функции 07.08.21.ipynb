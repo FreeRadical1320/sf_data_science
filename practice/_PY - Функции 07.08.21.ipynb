{
  "nbformat": 4,
  "nbformat_minor": 0,
  "metadata": {
    "colab": {
      "name": "sf_functions_07_08_21.ipynb",
      "provenance": [],
      "collapsed_sections": []
    },
    "kernelspec": {
      "display_name": "Python 3",
      "language": "python",
      "name": "python3"
    },
    "language_info": {
      "codemirror_mode": {
        "name": "ipython",
        "version": 3
      },
      "file_extension": ".py",
      "mimetype": "text/x-python",
      "name": "python",
      "nbconvert_exporter": "python",
      "pygments_lexer": "ipython3",
      "version": "3.8.5"
    }
  },
  "cells": [
    {
      "cell_type": "markdown",
      "metadata": {
        "id": "djL0UFMoIgyt"
      },
      "source": [
        "# Функции\n",
        "\n",
        "Булыгин Олег  \n",
        "\n",
        "* [LinkedIn](linkedin.com/in/obulygin)  \n",
        "* [Telegram](https://t.me/obulygin91)  \n",
        "* [facebook](fb.com/obulygin91)  \n",
        "* [Vk](vk.com/obulygin91)  \n",
        "* email: obulygin91@ya.ru  \n",
        "\n",
        "[Сообщество по Python](https://yandex.ru/q/loves/pythontalk/) на Кью  \n",
        "[Сообщество по Data Science и анализу данных](https://yandex.ru/q/loves/datatalk/) на Кью  \n"
      ]
    },
    {
      "cell_type": "markdown",
      "metadata": {
        "id": "-uLwA64gd7PQ"
      },
      "source": [
        "## План\n",
        "- Определение функции  \n",
        "- Docstring  \n",
        "- Параметры функции  \n",
        "- Области видимости  \n",
        "- lambda-функции  "
      ]
    },
    {
      "cell_type": "markdown",
      "metadata": {
        "id": "pc8i9xaId7PQ"
      },
      "source": [
        "Функции – это обособленный участок кода, который можно вызывать, обратившись к нему по имени, которым он был назван (подпрограмма).\n",
        "Это объект, принимающий аргументы и возвращающий значение."
      ]
    },
    {
      "cell_type": "markdown",
      "metadata": {
        "id": "P04F-7Ntd7PR"
      },
      "source": [
        "Функции помогают избежать дублирования кода, улучшить его структурированность и читаемость."
      ]
    },
    {
      "cell_type": "markdown",
      "metadata": {
        "id": "veWjkUwNIgzL"
      },
      "source": [
        "### Объявление функции\n",
        "\n",
        "Существуют некоторые правила для создания функций в Python:\n",
        "\n",
        "+ Блок функции начинается с ключевого слова def, после которого следуют название функции и круглые скобки ()\n",
        "\n",
        "+ Любые аргументы, которые принимает функция должны находиться внутри этих скобок.\n",
        "\n",
        "+ После скобок идет двоеточие ( : ) и с новой строки с отступом начинается тело функции.\n"
      ]
    },
    {
      "cell_type": "code",
      "metadata": {
        "id": "RWlt-EMpIgzN",
        "colab": {
          "base_uri": "https://localhost:8080/"
        },
        "outputId": "be7d3cb1-90a4-4d65-cbc4-72afdab57068"
      },
      "source": [
        "def my_function():\n",
        "    print('Эта наша первая функция')\n",
        "    \n",
        "    \n",
        "my_function()"
      ],
      "execution_count": null,
      "outputs": [
        {
          "output_type": "stream",
          "text": [
            "Эта наша первая функция\n"
          ],
          "name": "stdout"
        }
      ]
    },
    {
      "cell_type": "markdown",
      "metadata": {
        "id": "ahaklUj0Nw3u"
      },
      "source": [
        "Когда запустится строка \"Это наша первая функция\"?"
      ]
    },
    {
      "cell_type": "code",
      "metadata": {
        "id": "Gtr_IAjRNmPs",
        "colab": {
          "base_uri": "https://localhost:8080/"
        },
        "outputId": "34d89c53-1fb6-42e6-898c-4e4ecefde198"
      },
      "source": [
        "print('Раз')\n",
        "\n",
        "def your_function():\n",
        "    print('Это наша первая функция')\n",
        "\n",
        "\n",
        "print('Два')\n",
        "your_function()"
      ],
      "execution_count": null,
      "outputs": [
        {
          "output_type": "stream",
          "text": [
            "Раз\n",
            "Два\n",
            "Это наша первая функция\n"
          ],
          "name": "stdout"
        }
      ]
    },
    {
      "cell_type": "markdown",
      "metadata": {
        "id": "9UmnsAJTN5be"
      },
      "source": [
        "Есть **объявление** и **вызов** функции. Это разные процессы"
      ]
    },
    {
      "cell_type": "markdown",
      "metadata": {
        "id": "4oBO1B9jIgzh"
      },
      "source": [
        "### Ключевое слово return\n",
        "\n",
        "* Выражение return прекращает выполнение функции и возвращает указанное после выражения значение. \n",
        "\n",
        "* Выражение return без аргументов это то же самое, что и выражение return None. \n",
        "\n",
        "* То, что функция возвращает можно присваивать какой-либо переменной."
      ]
    },
    {
      "cell_type": "code",
      "metadata": {
        "id": "n_ohL5N9ONTL",
        "colab": {
          "base_uri": "https://localhost:8080/"
        },
        "outputId": "4b3e1050-d976-47af-b0e7-4f3374512c18"
      },
      "source": [
        "def square():\n",
        "    user_input = int(input('Введите число'))\n",
        "    result = user_input ** 2\n",
        "    return result\n",
        "\n",
        "res = square()\n",
        "# print(res) \n",
        "# когда вызываем функцию внутри print на экран выводится то, что она возвращает. В jupyter можно и без print\n",
        "print(square())"
      ],
      "execution_count": null,
      "outputs": [
        {
          "output_type": "stream",
          "text": [
            "Введите число25\n",
            "Введите число25\n",
            "625\n"
          ],
          "name": "stdout"
        }
      ]
    },
    {
      "cell_type": "code",
      "metadata": {
        "id": "9TE7U_m8d7PW",
        "colab": {
          "base_uri": "https://localhost:8080/"
        },
        "outputId": "ae1abe1b-8167-4ed4-d657-c8dc959fb1e0"
      },
      "source": [
        "# как думаете, что получим сейчас?\n",
        "def square():\n",
        "    user_input = int(input('Введите число'))\n",
        "    result = user_input ** 2\n",
        "    print(result)\n",
        "    \n",
        "res = square()\n",
        "print(res)"
      ],
      "execution_count": null,
      "outputs": [
        {
          "output_type": "stream",
          "text": [
            "Введите число5\n",
            "25\n",
            "None\n"
          ],
          "name": "stdout"
        }
      ]
    },
    {
      "cell_type": "markdown",
      "metadata": {
        "id": "9aIvBMyoIn8H"
      },
      "source": [
        "### Задача\n",
        "Напишите функцию, которая определяет является ли слово палиндромом"
      ]
    },
    {
      "cell_type": "code",
      "metadata": {
        "id": "_Pox8hcbd7PW"
      },
      "source": [
        "def is_palindrom():"
      ],
      "execution_count": null,
      "outputs": []
    },
    {
      "cell_type": "code",
      "metadata": {
        "id": "c7zqOO7nd7PX"
      },
      "source": [
        "def is_palindrom(word):\n",
        "    if word == word[::-1]:\n",
        "        return True\n",
        "    else:\n",
        "        return False"
      ],
      "execution_count": null,
      "outputs": []
    },
    {
      "cell_type": "code",
      "metadata": {
        "id": "BWqY7Hj_zg_x"
      },
      "source": [
        ""
      ],
      "execution_count": null,
      "outputs": []
    },
    {
      "cell_type": "code",
      "metadata": {
        "colab": {
          "base_uri": "https://localhost:8080/"
        },
        "id": "aIli35bc0LOZ",
        "outputId": "d7b7213a-0839-4411-af5a-1c26c0dcc54f"
      },
      "source": [
        "def is_palindrom():\n",
        "    user_input = input('Введите слово').replace(' ', '').lower()\n",
        "    return user_input == user_input[::-1]\n",
        "\n",
        "is_palindrom()"
      ],
      "execution_count": null,
      "outputs": [
        {
          "output_type": "stream",
          "text": [
            "Введите словоА роза упала на лапу Азора\n"
          ],
          "name": "stdout"
        },
        {
          "output_type": "execute_result",
          "data": {
            "text/plain": [
              "True"
            ]
          },
          "metadata": {
            "tags": []
          },
          "execution_count": 14
        }
      ]
    },
    {
      "cell_type": "markdown",
      "metadata": {
        "id": "KKHSA-bhd7PX"
      },
      "source": [
        "### Docstring\n",
        "\n",
        "(сокр. от documentation string, строка документации) \n",
        "встроенное средство документирования модулей, функций, классов и методов. \n",
        "\n",
        "Сразу после определения указывается строковое значение, которое и будет docstring'ом.\n"
      ]
    },
    {
      "cell_type": "code",
      "metadata": {
        "id": "zGbYOk0vd7PY",
        "colab": {
          "base_uri": "https://localhost:8080/"
        },
        "outputId": "74cc5a61-d64c-4760-bc3e-07dfb139bcb4"
      },
      "source": [
        "help(print)"
      ],
      "execution_count": null,
      "outputs": [
        {
          "output_type": "stream",
          "text": [
            "Help on built-in function print in module builtins:\n",
            "\n",
            "print(...)\n",
            "    print(value, ..., sep=' ', end='\\n', file=sys.stdout, flush=False)\n",
            "    \n",
            "    Prints the values to a stream, or to sys.stdout by default.\n",
            "    Optional keyword arguments:\n",
            "    file:  a file-like object (stream); defaults to the current sys.stdout.\n",
            "    sep:   string inserted between values, default a space.\n",
            "    end:   string appended after the last value, default a newline.\n",
            "    flush: whether to forcibly flush the stream.\n",
            "\n"
          ],
          "name": "stdout"
        }
      ]
    },
    {
      "cell_type": "code",
      "metadata": {
        "id": "Cv7g0Hh1d7PY"
      },
      "source": [
        "?print"
      ],
      "execution_count": null,
      "outputs": []
    },
    {
      "cell_type": "code",
      "metadata": {
        "id": "eZaXRUnld7PY"
      },
      "source": [
        "# пишем docstring к своей функции\n",
        "def square():\n",
        "    \"\"\"\n",
        "    this is my function\n",
        "    \"\"\"\n",
        "    user_input = int(input('Введите число'))\n",
        "    result = user_input ** 2\n",
        "    return result"
      ],
      "execution_count": null,
      "outputs": []
    },
    {
      "cell_type": "code",
      "metadata": {
        "id": "6Sri3s_Rd7PY"
      },
      "source": [
        "?square"
      ],
      "execution_count": null,
      "outputs": []
    },
    {
      "cell_type": "markdown",
      "metadata": {
        "id": "yQlxKfmHIgz6"
      },
      "source": [
        "### Функции придают программе структуру"
      ]
    },
    {
      "cell_type": "markdown",
      "metadata": {
        "id": "1FTFp8paIgz-"
      },
      "source": [
        "Польза функций не только в возможности многократного вызова одного и того же кода из разных мест программы. Не менее важно, что благодаря им программа обретает четкую структуру. Функции как бы разделяют ее на обособленные части, каждая из которых выполняет свою конкретную задачу.\n",
        "\n",
        "Пусть надо написать программу, вычисляющую площади разных фигур. Пользователь указывает, площадь какой фигуры он хочет вычислить. После этого вводит исходные данные. Например, длину и ширину в случае прямоугольника. Чтобы разделить поток выполнения на несколько ветвей, следует использовать оператор if-elif-else:"
      ]
    },
    {
      "cell_type": "code",
      "metadata": {
        "id": "dKIiW8aSIg0A",
        "colab": {
          "base_uri": "https://localhost:8080/"
        },
        "outputId": "c1ef22b5-f950-41f1-dc1b-9730a1de8256"
      },
      "source": [
        "figure = input(\"1-прямоугольник, 2-треугольник, 3-круг: \")\n",
        " \n",
        "if figure == '1':\n",
        "    a = float(input(\"Ширина: \"))\n",
        "    b = float(input(\"Высота: \"))\n",
        "    print(f\"Площадь: {a*b}\")\n",
        "elif figure == '2':\n",
        "    a = float(input(\"Основание: \"))\n",
        "    h = float(input(\"Высота: \"))\n",
        "    print(f\"Площадь: {0.5 * a * h}\")\n",
        "elif figure == '3':\n",
        "    r = float(input(\"Радиус: \"))\n",
        "    print(f\"Площадь: {3.14 * r**2}\")\n",
        "else:\n",
        "    print(\"Ошибка ввода\")"
      ],
      "execution_count": null,
      "outputs": [
        {
          "output_type": "stream",
          "text": [
            "1-прямоугольник, 2-треугольник, 3-круг: 2\n",
            "Основание: 5\n",
            "Высота: 2\n",
            "Площадь: 5.0\n"
          ],
          "name": "stdout"
        }
      ]
    },
    {
      "cell_type": "code",
      "metadata": {
        "id": "X4eLEHn6Ig0G",
        "colab": {
          "base_uri": "https://localhost:8080/"
        },
        "outputId": "ddf718ac-f1f0-475d-cebf-b8004be90bc6"
      },
      "source": [
        "def rectangle():\n",
        "    a = float(input(\"Ширина: \"))\n",
        "    b = float(input(\"Высота: \"))\n",
        "    print(f\"Площадь: {a*b}\")\n",
        "    \n",
        "def triangle():\n",
        "    a = float(input(\"Основание: \"))\n",
        "    h = float(input(\"Высота: \"))\n",
        "    print(f\"Площадь: {0.5 * a * h}\")\n",
        "\n",
        "def circle():\n",
        "    r = float(input(\"Радиус: \"))\n",
        "    print(f\"Площадь: {3.14 * r**2}\")\n",
        "    \n",
        "def main():\n",
        "    figure = input(\"1-прямоугольник, 2-треугольник, 3-круг: \")\n",
        "    if figure == '1':\n",
        "        rectangle()\n",
        "    elif figure == '2':\n",
        "        triangle()\n",
        "    elif figure == '3':\n",
        "        circle()\n",
        "    else:\n",
        "        print(\"Ошибка ввода\")\n",
        "        \n",
        "main()"
      ],
      "execution_count": null,
      "outputs": [
        {
          "output_type": "stream",
          "text": [
            "1-прямоугольник, 2-треугольник, 3-круг: 3\n",
            "Радиус: 4\n",
            "Площадь: 50.24\n"
          ],
          "name": "stdout"
        }
      ]
    },
    {
      "cell_type": "markdown",
      "metadata": {
        "id": "v4Xh1dEWIg0e"
      },
      "source": [
        "Из общей логики программы как бы убраны и обособлены инструкции для нахождения площадей. Программа теперь состоит из отдельных \"кирпичиков Лего\". В основной ветке мы можем комбинировать их как угодно. Она играет роль управляющего механизма.\n",
        "\n",
        "Если нам когда-нибудь захочется вычислять площадь треугольника по формуле Герона, а не через высоту, то не придется искать код во всей программе (представьте, что она состоит из тысяч строк кода как реальные программы). Мы пойдем к месту определения функций и изменим тело одной из них.\n",
        "\n",
        "Если понадобиться использовать эти функции в какой-нибудь другой программе, то мы сможем импортировать их туда, сославшись на данный файл с кодом."
      ]
    },
    {
      "cell_type": "markdown",
      "metadata": {
        "id": "aBdoesrjd7Pb"
      },
      "source": [
        "### Параметры функции"
      ]
    },
    {
      "cell_type": "markdown",
      "metadata": {
        "id": "BhY7_uxqd7Pb"
      },
      "source": [
        "Функция может принимать более 1 параметра (а может не принимать параметры вообще).\n",
        "\n",
        "Для всех параметров функций можно указывать значения по-умолчанию, это дает возможность вызвать функцию с меньшим числом параметров.\n",
        "\n"
      ]
    },
    {
      "cell_type": "markdown",
      "metadata": {
        "id": "G6_adbf2O_hF"
      },
      "source": [
        "Переменные в скобках – это параметры функции, которые мы указываем при объявлении функции. Когда мы её вызываем мы передаем в вызов аргументы. В нашем случае это будут числа. "
      ]
    },
    {
      "cell_type": "code",
      "metadata": {
        "id": "EHK_kqH3Igzj",
        "colab": {
          "base_uri": "https://localhost:8080/"
        },
        "outputId": "be7854f2-73d8-4069-f006-e03777ff98eb"
      },
      "source": [
        "def bigger(a, b):\n",
        "    \"\"\"Эта функция сравнивает числа и выдает большее\"\"\"\n",
        "    if a > b:\n",
        "        return a\n",
        "    return b \n",
        " \n",
        "# присваиваем результат функции bigger переменной num\n",
        "num = bigger(27, 56)\n",
        "num"
      ],
      "execution_count": null,
      "outputs": [
        {
          "output_type": "execute_result",
          "data": {
            "text/plain": [
              "56"
            ]
          },
          "metadata": {
            "tags": []
          },
          "execution_count": 23
        }
      ]
    },
    {
      "cell_type": "code",
      "metadata": {
        "id": "g-mCORRUd7Pc",
        "colab": {
          "base_uri": "https://localhost:8080/"
        },
        "outputId": "2fd0c70e-f4fa-42e0-a0e1-3d0f38fbe289"
      },
      "source": [
        "# функция с параметром по умолчанию\n",
        "def power(number, number_2=2):\n",
        "    result = number ** number_2\n",
        "    return result\n",
        "power(5, 3)"
      ],
      "execution_count": null,
      "outputs": [
        {
          "output_type": "execute_result",
          "data": {
            "text/plain": [
              "125"
            ]
          },
          "metadata": {
            "tags": []
          },
          "execution_count": 38
        }
      ]
    },
    {
      "cell_type": "markdown",
      "metadata": {
        "id": "Eoxt12iBd7Pc"
      },
      "source": [
        "Если при создании функции мы указали количество передаваемых ей аргументов и их порядок, \n",
        "то и вызывать ее мы должны с тем же количеством аргументов, заданных в нужном порядке. \n",
        "\n",
        "Если при вызове мы будем явно указывать имена аргументов, то их можно передавать в любом порядке"
      ]
    },
    {
      "cell_type": "code",
      "metadata": {
        "id": "glTwlsqed7Pc"
      },
      "source": [
        "power(2, 3, 1)"
      ],
      "execution_count": null,
      "outputs": []
    },
    {
      "cell_type": "code",
      "metadata": {
        "id": "DuIz2T3pd7Pd"
      },
      "source": [
        "power()"
      ],
      "execution_count": null,
      "outputs": []
    },
    {
      "cell_type": "code",
      "metadata": {
        "id": "9WzJnXYBd7Pd",
        "colab": {
          "base_uri": "https://localhost:8080/"
        },
        "outputId": "6ff6b0d2-a927-48f7-f07b-c5c6ed319be2"
      },
      "source": [
        "# если передавать аргументы не в том порядке, в каком они были описаны при объявлении\n",
        "power(number_2=3, number=2)"
      ],
      "execution_count": null,
      "outputs": [
        {
          "output_type": "execute_result",
          "data": {
            "text/plain": [
              "8"
            ]
          },
          "metadata": {
            "tags": []
          },
          "execution_count": 39
        }
      ]
    },
    {
      "cell_type": "markdown",
      "metadata": {
        "id": "BF7EhPbcSVBV"
      },
      "source": [
        "Иногда возникает ситуация, когда вы заранее не знаете, какое количество аргументов будет необходимо принять функции. В этом случае следует использовать аргументы произвольной длины ([args и kwargs](https://habr.com/ru/company/ruvds/blog/482464/)). Они задаются произвольным именем переменной, перед которой ставится звездочка (args) или две здездочки (kwargs)."
      ]
    },
    {
      "cell_type": "code",
      "metadata": {
        "id": "C6hrJTVuIg1G",
        "colab": {
          "base_uri": "https://localhost:8080/"
        },
        "outputId": "67ffc354-df52-41a3-bd7a-b2981b31063f"
      },
      "source": [
        "def unknown(*args):\n",
        "    print(args) #здесь будет кортеж из всех переданных аргументов\n",
        "    for argument in args:\n",
        "        print(argument)\n",
        "\n",
        "unknown(\"hello\",\"world\") # напечатает оба слова, каждое с новой строки\n",
        "unknown(1,2,3,4,5) # напечатает все числа, каждое с новой строки\n",
        "unknown() # ничего не выведет"
      ],
      "execution_count": null,
      "outputs": [
        {
          "output_type": "stream",
          "text": [
            "('hello', 'world')\n",
            "hello\n",
            "world\n",
            "(1, 2, 3, 4, 5)\n",
            "1\n",
            "2\n",
            "3\n",
            "4\n",
            "5\n",
            "()\n"
          ],
          "name": "stdout"
        }
      ]
    },
    {
      "cell_type": "code",
      "metadata": {
        "id": "wOe780ORd7Pe"
      },
      "source": [
        "def api_request(*params):\n",
        "    date_start = params[0]\n",
        "    date_end = params[1]\n",
        "    print(params)\n",
        "    print(f'Дата старта: {date_start}, дата окончания: {date_end}, прочие данные: {params[2:]}')"
      ],
      "execution_count": null,
      "outputs": []
    },
    {
      "cell_type": "code",
      "metadata": {
        "id": "Z1CDRkfgd7Pe",
        "colab": {
          "base_uri": "https://localhost:8080/"
        },
        "outputId": "377a395d-0c2e-4119-c29f-f795c6b4e91f"
      },
      "source": [
        "api_request('2019-01-01', '2019-01-31')"
      ],
      "execution_count": null,
      "outputs": [
        {
          "output_type": "stream",
          "text": [
            "('2019-01-01', '2019-01-31')\n",
            "Дата старта: 2019-01-01, дата окончания: 2019-01-31, прочие данные: ()\n"
          ],
          "name": "stdout"
        }
      ]
    },
    {
      "cell_type": "code",
      "metadata": {
        "id": "WGkSzRubd7Pe",
        "colab": {
          "base_uri": "https://localhost:8080/"
        },
        "outputId": "d59cba52-78b6-4343-85a9-a9216b68a6ca"
      },
      "source": [
        "api_request('2019-01-01', '2019-01-31', 1000, 10000)"
      ],
      "execution_count": null,
      "outputs": [
        {
          "output_type": "stream",
          "text": [
            "('2019-01-01', '2019-01-31', 1000, 10000)\n",
            "Дата старта: 2019-01-01, дата окончания: 2019-01-31, прочие данные: (1000, 10000)\n"
          ],
          "name": "stdout"
        }
      ]
    },
    {
      "cell_type": "code",
      "metadata": {
        "id": "PqNd6B53d7Pf"
      },
      "source": [
        "def api_requets(**params):\n",
        "    return params"
      ],
      "execution_count": null,
      "outputs": []
    },
    {
      "cell_type": "code",
      "metadata": {
        "scrolled": false,
        "id": "hVfRhKGzd7Pf",
        "colab": {
          "base_uri": "https://localhost:8080/"
        },
        "outputId": "1328db7f-6f6b-43d5-f0b4-3b04b016c1fd"
      },
      "source": [
        "api_requets(a=1, b=2, c=3)"
      ],
      "execution_count": null,
      "outputs": [
        {
          "output_type": "execute_result",
          "data": {
            "text/plain": [
              "{'a': 1, 'b': 2, 'c': 3}"
            ]
          },
          "metadata": {
            "tags": []
          },
          "execution_count": 46
        }
      ]
    },
    {
      "cell_type": "code",
      "metadata": {
        "id": "DgS-MHMud7Pf"
      },
      "source": [
        "def api_request(**params):\n",
        "    date_start = params['date_start']\n",
        "    date_end = params['date_end']\n",
        "    print(params)\n",
        "    print(f'Дата старта: {date_start}, дата окончания: {date_end}')"
      ],
      "execution_count": null,
      "outputs": []
    },
    {
      "cell_type": "code",
      "metadata": {
        "id": "91XBUkWmd7Pf",
        "colab": {
          "base_uri": "https://localhost:8080/"
        },
        "outputId": "79d8dadc-861b-4bd5-9d44-bb1c7858f70f"
      },
      "source": [
        "api_request(date_start='2019-01-31', date_end='2019-01-01')"
      ],
      "execution_count": null,
      "outputs": [
        {
          "output_type": "stream",
          "text": [
            "{'date_start': '2019-01-31', 'date_end': '2019-01-01'}\n",
            "Дата старта: 2019-01-31, дата окончания: 2019-01-01\n"
          ],
          "name": "stdout"
        }
      ]
    },
    {
      "cell_type": "markdown",
      "metadata": {
        "id": "l4SiNuA8d7Pg"
      },
      "source": [
        "### Задача\n",
        "Напишите функцию, которая будет находить среднюю цену квартиры по всем данным (каждый спиоск – отдельный район города)"
      ]
    },
    {
      "cell_type": "code",
      "metadata": {
        "id": "jvi6cFSkd7Pg"
      },
      "source": [
        "dict_1 = {'flat_1': 10500, 'flat_2': 11000}\n",
        "dict_2 = {'flat_3': 15000}\n",
        "dict_3 = {'flat_4': 6500, 'flat_5': 7000, 'flat_6': 6000}"
      ],
      "execution_count": null,
      "outputs": []
    },
    {
      "cell_type": "code",
      "metadata": {
        "id": "-J4YeUHhd7Pg",
        "colab": {
          "base_uri": "https://localhost:8080/"
        },
        "outputId": "818a4a40-76f9-4c12-f65e-e3d05133eae3"
      },
      "source": [
        "def mean_price(*args):\n",
        "    area_counter = 0\n",
        "    area_total = 0\n",
        "    for d in args:\n",
        "        for v in d.values():\n",
        "            area_counter += 1\n",
        "            area_total += v\n",
        "    return round(area_total / area_counter, 2)\n",
        "\n",
        "mean_price(dict_1, dict_2)"
      ],
      "execution_count": null,
      "outputs": [
        {
          "output_type": "execute_result",
          "data": {
            "text/plain": [
              "12166.67"
            ]
          },
          "metadata": {
            "tags": []
          },
          "execution_count": 53
        }
      ]
    },
    {
      "cell_type": "code",
      "metadata": {
        "colab": {
          "base_uri": "https://localhost:8080/"
        },
        "id": "0zF9vCIC6yWX",
        "outputId": "4c551dd0-3b3a-4ed3-9972-de74a831b638"
      },
      "source": [
        "def mean_price(*args):\n",
        "    area_counter = 0\n",
        "    area_total = 0\n",
        "    for d in args:\n",
        "        area_counter += len(d.values())\n",
        "        area_total += sum(d.values())\n",
        "    return round(area_total / area_counter, 2)\n",
        "mean_price(dict_1, dict_2, dict_3)"
      ],
      "execution_count": null,
      "outputs": [
        {
          "output_type": "execute_result",
          "data": {
            "text/plain": [
              "9333.33"
            ]
          },
          "metadata": {
            "tags": []
          },
          "execution_count": 55
        }
      ]
    },
    {
      "cell_type": "markdown",
      "metadata": {
        "id": "fPPXAGPHIg1Y"
      },
      "source": [
        "### Области видимости\n",
        "\n",
        "Область видимости (scope) определяет контекст объекта, в рамках которого его можно использовать.\n",
        "\n",
        "Рассмотрим 2 типа области видимости:\n",
        "\n",
        "* Локальная область видимости\n",
        "* Глобальная область видимости\n",
        "\n",
        "Глобальная область видимости подразумевает, что переменная является глобальной, она определена вне любой из функций и доступна любой функции в программе.\n",
        "\n",
        "В отличие от глобальных переменных локальная переменная определяется внутри функции и доступна только из этой функции, то есть имеет локальную область видимости."
      ]
    },
    {
      "cell_type": "code",
      "metadata": {
        "id": "JoUGUs04Ig1a",
        "colab": {
          "base_uri": "https://localhost:8080/",
          "height": 216
        },
        "outputId": "8fba9d02-6599-4537-b1ff-ca1372c6ea01"
      },
      "source": [
        "# глобальные переменные\n",
        "salary = 1000\n",
        "bonus = 600\n",
        "\n",
        "def info():\n",
        "    print(salary + bonus) \n",
        "\n",
        "def info_2():\n",
        "    bonus = 50\n",
        "    print(salary + bonus) \n",
        "\n",
        "def local_info():\n",
        "    salary = 500 \n",
        "    bonus = 200\n",
        "    some_number = 1\n",
        "    print(salary + bonus)\n",
        "    \n",
        "\n",
        "# info()\n",
        "# info_2()\n",
        "local_info()\n",
        "print(some_number)"
      ],
      "execution_count": null,
      "outputs": [
        {
          "output_type": "stream",
          "text": [
            "700\n"
          ],
          "name": "stdout"
        },
        {
          "output_type": "error",
          "ename": "NameError",
          "evalue": "ignored",
          "traceback": [
            "\u001b[0;31m---------------------------------------------------------------------------\u001b[0m",
            "\u001b[0;31mNameError\u001b[0m                                 Traceback (most recent call last)",
            "\u001b[0;32m<ipython-input-58-ae7b1a890b69>\u001b[0m in \u001b[0;36m<module>\u001b[0;34m()\u001b[0m\n\u001b[1;32m     20\u001b[0m \u001b[0;31m# info_2()\u001b[0m\u001b[0;34m\u001b[0m\u001b[0;34m\u001b[0m\u001b[0;34m\u001b[0m\u001b[0m\n\u001b[1;32m     21\u001b[0m \u001b[0mlocal_info\u001b[0m\u001b[0;34m(\u001b[0m\u001b[0;34m)\u001b[0m\u001b[0;34m\u001b[0m\u001b[0;34m\u001b[0m\u001b[0m\n\u001b[0;32m---> 22\u001b[0;31m \u001b[0mprint\u001b[0m\u001b[0;34m(\u001b[0m\u001b[0msome_number\u001b[0m\u001b[0;34m)\u001b[0m\u001b[0;34m\u001b[0m\u001b[0;34m\u001b[0m\u001b[0m\n\u001b[0m",
            "\u001b[0;31mNameError\u001b[0m: name 'some_number' is not defined"
          ]
        }
      ]
    },
    {
      "cell_type": "markdown",
      "metadata": {
        "id": "mgMjftejd7Ph"
      },
      "source": [
        "### Анонимные функции"
      ]
    },
    {
      "cell_type": "markdown",
      "metadata": {
        "id": "johkgSPXd7Ph"
      },
      "source": [
        "[Анонимные функции](https://habr.com/ru/post/507642/) создаются при помощи инструкции lambda и используются для более краткой записи функций с одним выражением. Выполняются быстрее обычных и не требуют инструкции return."
      ]
    },
    {
      "cell_type": "code",
      "metadata": {
        "id": "go0gAu5Qd7Ph",
        "colab": {
          "base_uri": "https://localhost:8080/"
        },
        "outputId": "679e31dc-cdf8-4e0c-f4f0-2fddc592a811"
      },
      "source": [
        "func = lambda x, y: x + y\n",
        "func(1, 8)"
      ],
      "execution_count": null,
      "outputs": [
        {
          "output_type": "execute_result",
          "data": {
            "text/plain": [
              "9"
            ]
          },
          "metadata": {
            "tags": []
          },
          "execution_count": 59
        }
      ]
    },
    {
      "cell_type": "code",
      "metadata": {
        "id": "RQqB-oQ8d7Ph",
        "colab": {
          "base_uri": "https://localhost:8080/"
        },
        "outputId": "5a212a05-4dcb-491d-eb93-fda328c04659"
      },
      "source": [
        "sqrt = lambda x: (x**0.5, x**2)\n",
        "sqrt(9)"
      ],
      "execution_count": null,
      "outputs": [
        {
          "output_type": "execute_result",
          "data": {
            "text/plain": [
              "(3.0, 81)"
            ]
          },
          "metadata": {
            "tags": []
          },
          "execution_count": 60
        }
      ]
    },
    {
      "cell_type": "markdown",
      "metadata": {
        "id": "Y-BEeoayd7Ph"
      },
      "source": [
        "### lambda + map"
      ]
    },
    {
      "cell_type": "markdown",
      "metadata": {
        "id": "vQikb7snd7Pi"
      },
      "source": [
        "В Python функция map принимает два аргумента: функцию и итерируемый объект, например, список. map применяет к каждому элементу объекта переданного в функцию."
      ]
    },
    {
      "cell_type": "markdown",
      "metadata": {
        "id": "KfsvVpu-d7Pi"
      },
      "source": [
        "Пишем программу, которая создает список, содержащий квадраты натуральных чисел от 1 до 9"
      ]
    },
    {
      "cell_type": "code",
      "metadata": {
        "id": "z1T6oKmvd7Pi",
        "colab": {
          "base_uri": "https://localhost:8080/"
        },
        "outputId": "e01ada32-ffd9-439a-901b-0ffe6863bf19"
      },
      "source": [
        "# Традиционным способом\n",
        "my_list = []\n",
        "for i in range(1,10):\n",
        "    my_list.append(i**2)\n",
        "my_list"
      ],
      "execution_count": null,
      "outputs": [
        {
          "output_type": "execute_result",
          "data": {
            "text/plain": [
              "[1, 4, 9, 16, 25, 36, 49, 64, 81]"
            ]
          },
          "metadata": {
            "tags": []
          },
          "execution_count": 61
        }
      ]
    },
    {
      "cell_type": "code",
      "metadata": {
        "id": "lAVF34Fed7Pi",
        "colab": {
          "base_uri": "https://localhost:8080/"
        },
        "outputId": "5d9e97e8-f2e1-420e-e014-82d9e93b92b8"
      },
      "source": [
        "# С помощью map+lambda\n",
        "list(map(lambda x: x**2, range(1,10)))"
      ],
      "execution_count": null,
      "outputs": [
        {
          "output_type": "execute_result",
          "data": {
            "text/plain": [
              "[1, 4, 9, 16, 25, 36, 49, 64, 81]"
            ]
          },
          "metadata": {
            "tags": []
          },
          "execution_count": 63
        }
      ]
    },
    {
      "cell_type": "code",
      "metadata": {
        "id": "FLqx6pfXIg3j",
        "scrolled": true,
        "colab": {
          "base_uri": "https://localhost:8080/"
        },
        "outputId": "69c25ac6-f9cd-4b3e-fd60-3ef79dbe8325"
      },
      "source": [
        "def miles_to_kilometers(num_miles):\n",
        "    \"\"\" Converts miles to the kilometers \"\"\"\n",
        "    return num_miles * 1.6\n",
        " \n",
        "mile_distances = [1.0, 6.5, 17.4, 2.4, 9]\n",
        "kilometer_distances = list(map(miles_to_kilometers, mile_distances))\n",
        "print(kilometer_distances)"
      ],
      "execution_count": null,
      "outputs": [
        {
          "output_type": "stream",
          "text": [
            "[1.6, 10.4, 27.84, 3.84, 14.4]\n"
          ],
          "name": "stdout"
        }
      ]
    },
    {
      "cell_type": "code",
      "metadata": {
        "id": "tz099Zb1Ig3n",
        "scrolled": true,
        "colab": {
          "base_uri": "https://localhost:8080/"
        },
        "outputId": "7a3ff7f7-1659-458b-8b36-5a04fc892cf0"
      },
      "source": [
        "mile_distances = [1.0, 6.5, 17.4, 2.4, 9]\n",
        "kilometer_distances = list(map(lambda x: x * 1.6, mile_distances))\n",
        "kilometer_distances"
      ],
      "execution_count": null,
      "outputs": [
        {
          "output_type": "execute_result",
          "data": {
            "text/plain": [
              "[1.6, 10.4, 27.84, 3.84, 14.4]"
            ]
          },
          "metadata": {
            "tags": []
          },
          "execution_count": 65
        }
      ]
    },
    {
      "cell_type": "markdown",
      "metadata": {
        "id": "vUJMJrW7d7Pj"
      },
      "source": [
        "### Задача\n",
        "Напишите функцию, которая будет находить среднюю цену на товары в каждой категории по отдельности."
      ]
    },
    {
      "cell_type": "code",
      "metadata": {
        "id": "Up5GPORUIg0o"
      },
      "source": [
        "prices = [[100, 200, 400, 600], [200, 500], [100, 200, 100, 100], [800, 900]]"
      ],
      "execution_count": null,
      "outputs": []
    },
    {
      "cell_type": "code",
      "metadata": {
        "id": "WSbGxIAyd7Pj",
        "colab": {
          "base_uri": "https://localhost:8080/"
        },
        "outputId": "37679570-667c-4c50-c447-eac91ada2c25"
      },
      "source": [
        "list(map(lambda x: sum(x) / len(x), prices))"
      ],
      "execution_count": null,
      "outputs": [
        {
          "output_type": "execute_result",
          "data": {
            "text/plain": [
              "[325.0, 350.0, 125.0, 850.0]"
            ]
          },
          "metadata": {
            "tags": []
          },
          "execution_count": 67
        }
      ]
    },
    {
      "cell_type": "markdown",
      "metadata": {
        "id": "ZpbWF9Spd7Pj"
      },
      "source": [
        "### Комплексный пример"
      ]
    },
    {
      "cell_type": "code",
      "metadata": {
        "id": "Gvct0-t8d7Pk"
      },
      "source": [
        "students_list = [\n",
        "    {\"name\": \"Василий\", \"surname\": \"Теркин\", \"gender\": \"м\", \"program_exp\": True, \"grade\": [8, 8, 9], \"exam\": 8},\n",
        "    {\"name\": \"Мария\", \"surname\": \"Павлова\", \"gender\": \"ж\", \"program_exp\": True, \"grade\": [7, 8, 9, 7, 9], \"exam\": 9},\n",
        "    {\"name\": \"Ирина\", \"surname\": \"Андреева\", \"gender\": \"ж\", \"program_exp\": False, \"grade\": [10, 9, 8], \"exam\": 7},\n",
        "    {\"name\": \"Татьяна\", \"surname\": \"Сидорова\", \"gender\": \"ж\", \"program_exp\": False, \"grade\": [7, 8, 8, 9, 8],\"exam\": 10},\n",
        "    {\"name\": \"Иван\", \"surname\": \"Васильев\", \"gender\": \"м\", \"program_exp\": True, \"grade\": [9, 8, 9, 6, 9], \"exam\": 5},\n",
        "    {\"name\": \"Роман\", \"surname\": \"Золотарев\", \"gender\": \"м\", \"program_exp\": False, \"grade\": [8, 9, 9, 6, 9], \"exam\": 6}\n",
        "]"
      ],
      "execution_count": null,
      "outputs": []
    },
    {
      "cell_type": "code",
      "metadata": {
        "id": "inDWLm42d7Pk"
      },
      "source": [
        "# посчитаем среднюю оценку за экзамен по всей группе\n",
        "def get_avg_exam_grade(students):\n",
        "    sum_ex = 0\n",
        "    for student in students:\n",
        "        sum_ex += student['exam']\n",
        "    return round(sum_ex / len(students), 2)"
      ],
      "execution_count": null,
      "outputs": []
    },
    {
      "cell_type": "code",
      "metadata": {
        "id": "jmKOpwBLd7Pk",
        "colab": {
          "base_uri": "https://localhost:8080/"
        },
        "outputId": "769a4461-3e4d-4858-dadd-4c30f1211373"
      },
      "source": [
        "get_avg_exam_grade(students_list)"
      ],
      "execution_count": null,
      "outputs": [
        {
          "output_type": "execute_result",
          "data": {
            "text/plain": [
              "7.5"
            ]
          },
          "metadata": {
            "tags": []
          },
          "execution_count": 70
        }
      ]
    },
    {
      "cell_type": "code",
      "metadata": {
        "id": "WyefFkS9d7Pk"
      },
      "source": [
        "# посчитаем среднюю оценку за ДЗ по всей группе\n",
        "def get_avg_hw_grade(students):\n",
        "    sum_hw = 0\n",
        "    for student in students:\n",
        "        sum_hw += sum(student['grade']) / len(student['grade'])\n",
        "    return round(sum_hw / len(students), 2)"
      ],
      "execution_count": null,
      "outputs": []
    },
    {
      "cell_type": "code",
      "metadata": {
        "id": "sOu7e4TNd7Pl",
        "colab": {
          "base_uri": "https://localhost:8080/"
        },
        "outputId": "0c879fdf-1f94-45e0-b4ea-d7d614e6246d"
      },
      "source": [
        "get_avg_hw_grade(students_list)"
      ],
      "execution_count": null,
      "outputs": [
        {
          "output_type": "execute_result",
          "data": {
            "text/plain": [
              "8.29"
            ]
          },
          "metadata": {
            "tags": []
          },
          "execution_count": 72
        }
      ]
    },
    {
      "cell_type": "code",
      "metadata": {
        "id": "mywPAD-cd7Pl"
      },
      "source": [
        "# добавим фильтр по опыту для расчетов\n",
        "def get_avg_exam_grade(students, exp=False):\n",
        "    sum_ex = 0\n",
        "    counter = 0\n",
        "    for student in students:\n",
        "        if student['program_exp'] == exp:\n",
        "            sum_ex += student['exam']\n",
        "            counter += 1\n",
        "    return round(sum_ex / counter, 2)"
      ],
      "execution_count": null,
      "outputs": []
    },
    {
      "cell_type": "code",
      "metadata": {
        "id": "e4BQ7zpod7Pl",
        "colab": {
          "base_uri": "https://localhost:8080/"
        },
        "outputId": "95c264f9-f154-4f31-a8fa-907d9bcccae7"
      },
      "source": [
        "get_avg_exam_grade(students_list)"
      ],
      "execution_count": null,
      "outputs": [
        {
          "output_type": "execute_result",
          "data": {
            "text/plain": [
              "7.67"
            ]
          },
          "metadata": {
            "tags": []
          },
          "execution_count": 74
        }
      ]
    },
    {
      "cell_type": "code",
      "metadata": {
        "id": "iCvb2aood7Pl",
        "colab": {
          "base_uri": "https://localhost:8080/"
        },
        "outputId": "54665435-8d58-41f1-c4a7-9952b70c7949"
      },
      "source": [
        "get_avg_exam_grade(students_list, True)"
      ],
      "execution_count": null,
      "outputs": [
        {
          "output_type": "execute_result",
          "data": {
            "text/plain": [
              "7.33"
            ]
          },
          "metadata": {
            "tags": []
          },
          "execution_count": 75
        }
      ]
    },
    {
      "cell_type": "code",
      "metadata": {
        "id": "-1WNvfI6d7Pl"
      },
      "source": [
        "# а как же теперь сделать расчет по всей группе?\n",
        "def get_avg_exam_grade(students, exp=None):\n",
        "    sum_ex = 0\n",
        "    counter = 0\n",
        "    for student in students:\n",
        "        if exp is None or student['program_exp'] == exp:\n",
        "            sum_ex += student['exam']\n",
        "            counter += 1\n",
        "    return round(sum_ex / counter, 2)"
      ],
      "execution_count": null,
      "outputs": []
    },
    {
      "cell_type": "code",
      "metadata": {
        "id": "-DAu3HeId7Pm",
        "colab": {
          "base_uri": "https://localhost:8080/"
        },
        "outputId": "ad9b6b4d-ecd9-41fa-8c1e-06a7d1681feb"
      },
      "source": [
        "get_avg_exam_grade(students_list)"
      ],
      "execution_count": null,
      "outputs": [
        {
          "output_type": "execute_result",
          "data": {
            "text/plain": [
              "7.5"
            ]
          },
          "metadata": {
            "tags": []
          },
          "execution_count": 77
        }
      ]
    },
    {
      "cell_type": "code",
      "metadata": {
        "id": "tM2vk2qUd7Pm",
        "colab": {
          "base_uri": "https://localhost:8080/"
        },
        "outputId": "56c3a40c-d950-4303-85fe-b4075e70e7c9"
      },
      "source": [
        "get_avg_exam_grade(students_list, True)"
      ],
      "execution_count": null,
      "outputs": [
        {
          "output_type": "execute_result",
          "data": {
            "text/plain": [
              "7.33"
            ]
          },
          "metadata": {
            "tags": []
          },
          "execution_count": 78
        }
      ]
    },
    {
      "cell_type": "code",
      "metadata": {
        "id": "Fxy87mVSd7Pm",
        "colab": {
          "base_uri": "https://localhost:8080/"
        },
        "outputId": "3af33365-6778-44b6-c8e3-aec17c9ab0eb"
      },
      "source": [
        "get_avg_exam_grade(students_list, False)"
      ],
      "execution_count": null,
      "outputs": [
        {
          "output_type": "execute_result",
          "data": {
            "text/plain": [
              "7.67"
            ]
          },
          "metadata": {
            "tags": []
          },
          "execution_count": 79
        }
      ]
    },
    {
      "cell_type": "code",
      "metadata": {
        "id": "hSCyngvhd7Pm"
      },
      "source": [
        "# реализуем фильтр по полу\n",
        "def get_avg_exam_grade(students, gender=None):\n",
        "    sum_ex = 0\n",
        "    counter = 0\n",
        "    for student in students:\n",
        "        if gender is None or student['gender'] == gender:\n",
        "            sum_ex += student['exam']\n",
        "            counter += 1\n",
        "    return round(sum_ex / counter, 2)"
      ],
      "execution_count": null,
      "outputs": []
    },
    {
      "cell_type": "code",
      "metadata": {
        "id": "QgEtU5J9d7Pn",
        "colab": {
          "base_uri": "https://localhost:8080/"
        },
        "outputId": "fd080a22-b684-46f6-aef1-8ad1e12020fa"
      },
      "source": [
        "get_avg_exam_grade(students_list)"
      ],
      "execution_count": null,
      "outputs": [
        {
          "output_type": "execute_result",
          "data": {
            "text/plain": [
              "7.5"
            ]
          },
          "metadata": {
            "tags": []
          },
          "execution_count": 81
        }
      ]
    },
    {
      "cell_type": "code",
      "metadata": {
        "id": "5oA1FTOad7Pn",
        "colab": {
          "base_uri": "https://localhost:8080/"
        },
        "outputId": "e34ee939-544c-4c78-bfa9-310e62b85e5e"
      },
      "source": [
        "get_avg_exam_grade(students_list, 'м')"
      ],
      "execution_count": null,
      "outputs": [
        {
          "output_type": "execute_result",
          "data": {
            "text/plain": [
              "6.33"
            ]
          },
          "metadata": {
            "tags": []
          },
          "execution_count": 82
        }
      ]
    },
    {
      "cell_type": "code",
      "metadata": {
        "id": "YwoH9uf9d7Pn",
        "colab": {
          "base_uri": "https://localhost:8080/"
        },
        "outputId": "b700dca0-84d3-43d6-aa41-d324aaca72b8"
      },
      "source": [
        "get_avg_exam_grade(students_list, 'ж')"
      ],
      "execution_count": null,
      "outputs": [
        {
          "output_type": "execute_result",
          "data": {
            "text/plain": [
              "8.67"
            ]
          },
          "metadata": {
            "tags": []
          },
          "execution_count": 83
        }
      ]
    },
    {
      "cell_type": "code",
      "metadata": {
        "id": "easef3gLd7Pn"
      },
      "source": [
        "# реализуем сразу оба фильтра\n",
        "def get_avg_exam_grade(students, gender=None, exp=None):\n",
        "    sum_ex = 0\n",
        "    counter = 0\n",
        "    for student in students:\n",
        "        if (gender is None or student['gender'] == gender) and (exp is None or student['program_exp'] == exp):\n",
        "            sum_ex += student['exam']\n",
        "            counter += 1\n",
        "    return round(sum_ex / counter, 2)"
      ],
      "execution_count": null,
      "outputs": []
    },
    {
      "cell_type": "code",
      "metadata": {
        "id": "_0kY9yFUd7Pn",
        "colab": {
          "base_uri": "https://localhost:8080/"
        },
        "outputId": "29ccfece-2d91-4e44-84f6-62359a9fd4b3"
      },
      "source": [
        "get_avg_exam_grade(students_list)"
      ],
      "execution_count": null,
      "outputs": [
        {
          "output_type": "execute_result",
          "data": {
            "text/plain": [
              "7.5"
            ]
          },
          "metadata": {
            "tags": []
          },
          "execution_count": 85
        }
      ]
    },
    {
      "cell_type": "code",
      "metadata": {
        "id": "Um_5zla4d7Po",
        "colab": {
          "base_uri": "https://localhost:8080/"
        },
        "outputId": "37f9782a-9735-45f9-bc8c-979ca6dab555"
      },
      "source": [
        "get_avg_exam_grade(students_list, 'м')"
      ],
      "execution_count": null,
      "outputs": [
        {
          "output_type": "execute_result",
          "data": {
            "text/plain": [
              "6.33"
            ]
          },
          "metadata": {
            "tags": []
          },
          "execution_count": 86
        }
      ]
    },
    {
      "cell_type": "code",
      "metadata": {
        "id": "Z3Exo-Xud7Po",
        "colab": {
          "base_uri": "https://localhost:8080/"
        },
        "outputId": "dea38dfe-b228-4682-9669-e3b6a0d9a73e"
      },
      "source": [
        "get_avg_exam_grade(students_list, exp=True)"
      ],
      "execution_count": null,
      "outputs": [
        {
          "output_type": "execute_result",
          "data": {
            "text/plain": [
              "7.33"
            ]
          },
          "metadata": {
            "tags": []
          },
          "execution_count": 94
        }
      ]
    },
    {
      "cell_type": "code",
      "metadata": {
        "id": "Z1YPNpfcd7Po",
        "colab": {
          "base_uri": "https://localhost:8080/"
        },
        "outputId": "f87faf36-46ec-4091-bcf9-6d2f9852255f"
      },
      "source": [
        "get_avg_exam_grade(students_list, exp=False)"
      ],
      "execution_count": null,
      "outputs": [
        {
          "output_type": "execute_result",
          "data": {
            "text/plain": [
              "7.67"
            ]
          },
          "metadata": {
            "tags": []
          },
          "execution_count": 91
        }
      ]
    },
    {
      "cell_type": "code",
      "metadata": {
        "id": "3YK0M9mgd7Po",
        "colab": {
          "base_uri": "https://localhost:8080/"
        },
        "outputId": "9f407807-33b4-4e95-dafa-219501aa8629"
      },
      "source": [
        "get_avg_exam_grade(students_list, 'ж', exp=True)"
      ],
      "execution_count": null,
      "outputs": [
        {
          "output_type": "execute_result",
          "data": {
            "text/plain": [
              "9.0"
            ]
          },
          "metadata": {
            "tags": []
          },
          "execution_count": 92
        }
      ]
    },
    {
      "cell_type": "code",
      "metadata": {
        "colab": {
          "base_uri": "https://localhost:8080/"
        },
        "id": "ol7AXq_TBRsK",
        "outputId": "900c6189-0aaf-4614-f2bd-33ce525ffd5f"
      },
      "source": [
        "get_avg_exam_grade(students_list, 'м', exp=False)"
      ],
      "execution_count": null,
      "outputs": [
        {
          "output_type": "execute_result",
          "data": {
            "text/plain": [
              "6.0"
            ]
          },
          "metadata": {
            "tags": []
          },
          "execution_count": 93
        }
      ]
    },
    {
      "cell_type": "code",
      "metadata": {
        "id": "m5TQxK5Pd7Po"
      },
      "source": [
        "# расчет оценок за ДЗ\n",
        "def get_avg_hw_grade(students, gender=None, exp=None):\n",
        "    sum_hw = 0\n",
        "    counter = 0\n",
        "    for student in students:\n",
        "        if (gender is None or student['gender'] == gender) and (exp is None or student['program_exp'] == exp):\n",
        "            sum_hw += sum(student['grade']) / len(student['grade'])\n",
        "            counter += 1\n",
        "    return round(sum_hw / counter, 2)"
      ],
      "execution_count": null,
      "outputs": []
    },
    {
      "cell_type": "code",
      "metadata": {
        "id": "YWSwTNs-d7Pp"
      },
      "source": [
        "# пишем пользовательский интефейс\n",
        "\n",
        "def main(students):\n",
        "    while True:\n",
        "        user_input = input('Введите команду')\n",
        "        if user_input == '1':\n",
        "            print(f'Средняя оценка за экзамен по группе: {get_avg_exam_grade(students)}')\n",
        "        elif user_input == '2':\n",
        "            print(f'Средняя оценка за ДЗ по группе: {get_avg_hw_grade(students)}')\n",
        "        elif user_input == '3':\n",
        "            print(f'Средняя оценка за экзамен у студентов без бэкграунда: {get_avg_exam_grade(students, exp=False)}')\n",
        "        elif user_input == 'q':\n",
        "            print('До свидания!')\n",
        "            break"
      ],
      "execution_count": null,
      "outputs": []
    },
    {
      "cell_type": "code",
      "metadata": {
        "id": "49d_puS7d7Pp",
        "colab": {
          "base_uri": "https://localhost:8080/"
        },
        "outputId": "708de0a0-ec61-43cc-c1db-d914c60969ff"
      },
      "source": [
        "main(students_list)"
      ],
      "execution_count": null,
      "outputs": [
        {
          "output_type": "stream",
          "text": [
            "Введите команду1\n",
            "Средняя оценка за экзамен по группе: 7.5\n",
            "Введите команду2\n",
            "Средняя оценка за ДЗ по группе: 8.29\n",
            "Введите команду3\n",
            "Средняя оценка за экзамен у студентов без бэкграунда: 7.67\n",
            "Введите команду1\n",
            "Средняя оценка за экзамен по группе: 7.5\n",
            "Введите команду2\n",
            "Средняя оценка за ДЗ по группе: 8.29\n",
            "Введите командуq\n",
            "До свидания!\n"
          ],
          "name": "stdout"
        }
      ]
    },
    {
      "cell_type": "markdown",
      "metadata": {
        "id": "OgFcwZp-Z-ck"
      },
      "source": [
        "### Спасибо за внимание буду рад ответить на ваши вопросы!\n",
        "Ссылка на форму ОС:\n",
        "https://forms.gle/y8xaFwJqtbFSjUeG8\n"
      ]
    },
    {
      "cell_type": "code",
      "metadata": {
        "id": "RL70At9nLoq9"
      },
      "source": [
        ""
      ],
      "execution_count": null,
      "outputs": []
    }
  ]
}