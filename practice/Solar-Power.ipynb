{
 "cells": [
  {
   "cell_type": "markdown",
   "id": "25bb6bc5-fbd2-400a-9e01-cba18415fe9d",
   "metadata": {},
   "source": [
    "## <center> Аттестация. Практическое задание в Jupyter"
   ]
  },
  {
   "cell_type": "markdown",
   "id": "74c91391-dc17-4d6a-bbf8-489617260e61",
   "metadata": {},
   "source": [
    "В данном блоке вам предстоит решить задачу, которую автор когда-то решал на одном из своих собеседований.\n",
    "Вам предоставлена таблица с данными (скачать файл можно на платформе) о ежедневной выработке энергии солнечными батареями. Информация в ней содержится в двух столбцах: \n",
    "* date - дата наблюдения\n",
    "* cum_power - накопленная (кумулятивная) выработка энергии на указанный день\n",
    "\n",
    "То есть перед вами классический пример временного ряда: числовой показатель, зависящий от времени. Давайте с ним поработаем.\n"
   ]
  },
  {
   "cell_type": "code",
   "execution_count": 82,
   "id": "b3bad4ea-f1e8-47a4-a8f9-7c7ec263e5cb",
   "metadata": {},
   "outputs": [],
   "source": [
    "import pandas as pd\n",
    "import numpy as np"
   ]
  },
  {
   "cell_type": "markdown",
   "id": "d4014255-56cb-4ca8-9ebc-34003a9177d1",
   "metadata": {},
   "source": [
    "1. В нашем временном ряде есть несколько пропусков, они обозначены числом -1. Заполните пропуски средним арифметическим между двумя соседними наблюдениями: </p>\n",
    "    $$x^*_i  = \\frac{x_{i-1} + x_{i+1}}{2}$$ \n",
    "    \n",
    "Совет: проще всего будет сделать это, используя цикл по индексам элементов столбца cum_power, но вы можете предложить более изящное решение.\n"
   ]
  },
  {
   "cell_type": "code",
   "execution_count": 83,
   "id": "2787a04e-a9e1-42ab-a5d9-39077ec65174",
   "metadata": {},
   "outputs": [
    {
     "data": {
      "text/html": [
       "<div>\n",
       "<style scoped>\n",
       "    .dataframe tbody tr th:only-of-type {\n",
       "        vertical-align: middle;\n",
       "    }\n",
       "\n",
       "    .dataframe tbody tr th {\n",
       "        vertical-align: top;\n",
       "    }\n",
       "\n",
       "    .dataframe thead th {\n",
       "        text-align: right;\n",
       "    }\n",
       "</style>\n",
       "<table border=\"1\" class=\"dataframe\">\n",
       "  <thead>\n",
       "    <tr style=\"text-align: right;\">\n",
       "      <th></th>\n",
       "      <th>date</th>\n",
       "      <th>cum_power</th>\n",
       "    </tr>\n",
       "  </thead>\n",
       "  <tbody>\n",
       "    <tr>\n",
       "      <th>45</th>\n",
       "      <td>2017-02-15</td>\n",
       "      <td>-1.0</td>\n",
       "    </tr>\n",
       "    <tr>\n",
       "      <th>647</th>\n",
       "      <td>2018-10-10</td>\n",
       "      <td>-1.0</td>\n",
       "    </tr>\n",
       "  </tbody>\n",
       "</table>\n",
       "</div>"
      ],
      "text/plain": [
       "           date  cum_power\n",
       "45   2017-02-15       -1.0\n",
       "647  2018-10-10       -1.0"
      ]
     },
     "metadata": {},
     "output_type": "display_data"
    },
    {
     "name": "stderr",
     "output_type": "stream",
     "text": [
      "/home/freeradical/anaconda3/envs/sf/lib/python3.9/site-packages/pandas/core/indexing.py:1732: SettingWithCopyWarning:\n",
      "\n",
      "\n",
      "A value is trying to be set on a copy of a slice from a DataFrame\n",
      "\n",
      "See the caveats in the documentation: https://pandas.pydata.org/pandas-docs/stable/user_guide/indexing.html#returning-a-view-versus-a-copy\n",
      "\n"
     ]
    }
   ],
   "source": [
    "# Read the file to DataFrame\n",
    "df_sol = pd.read_csv('data/solarpower.csv')\n",
    "\n",
    "# Look at emptiy cells\n",
    "mask = df_sol['cum_power'] < 0\n",
    "display(df_sol[mask]) \n",
    "\n",
    "# Replace the empty cells\n",
    "for i in range(df_sol.shape[0]):\n",
    "    if df_sol['cum_power'].iloc[i] == -1:\n",
    "        df_sol['cum_power'].iloc[i] = (df_sol['cum_power'].iloc[i+1] + df_sol['cum_power'].iloc[i-1])/2\n",
    "     "
   ]
  },
  {
   "cell_type": "markdown",
   "id": "2fe6fd75-0332-4b3d-a89c-d96f42617c6e",
   "metadata": {},
   "source": [
    "2. Теперь, когда таблица заполнена, создайте столбец day_power - ежедневный прирост выработки солнечной энергии.\n",
    "\n",
    "    После чего создайте данные о ежемесячной выработке энергии на каждый год. \n",
    "    \n",
    "Совет: для того, чтобы выделить из даты год и месяц проще всего воспользоваться методом аксессора dt.to_period('M'), который позволяет выделять периоды, в данном случае 'М' - месяц."
   ]
  },
  {
   "cell_type": "code",
   "execution_count": 84,
   "id": "537351c6-6973-42a7-96a3-7479215da95a",
   "metadata": {},
   "outputs": [],
   "source": [
    "# Make new feature\n",
    "df_sol['day_power'] = df_sol['cum_power'].diff()\n",
    "\n",
    "df_sol['date'] = pd.to_datetime(df_sol['date'])\n",
    "\n",
    "df_sol['period'] = df_sol['date'].dt.to_period('M')\n"
   ]
  },
  {
   "cell_type": "markdown",
   "id": "1651a4e4-42d5-4dd2-94a2-2ae78030cbb7",
   "metadata": {},
   "source": [
    "3. Постройте график временного ряда - ежемесячной выработки солнечной энергии. Не забудьте подписать оси и сам график.\n",
    "Укажите в какие сезоны наблюдается подъем, а в какие спад?"
   ]
  },
  {
   "cell_type": "code",
   "execution_count": 85,
   "id": "4db62bce-9b27-4dc5-99dd-8a1337b29062",
   "metadata": {},
   "outputs": [
    {
     "data": {
      "image/png": "[encoded data removed]",
      "text/plain": [
       "<Figure size 432x288 with 1 Axes>"
      ]
     },
     "metadata": {
      "needs_background": "light"
     },
     "output_type": "display_data"
    }
   ],
   "source": [
    "# Draw the chart\n",
    "new_data = df_sol.groupby('period')['day_power'].sum()\n",
    "new_data.plot(kind='line',xlabel='Period', ylabel='Monthly generated solar power');"
   ]
  },
  {
   "cell_type": "markdown",
   "id": "31981c7e",
   "metadata": {},
   "source": [
    "На построенном графике наблюдаем сезонные подъемы и спады в выработке энергии, что связано с увеличием количества солнечного света и его мощности летом в северном полушарии."
   ]
  }
 ],
 "metadata": {
  "kernelspec": {
   "display_name": "Python 3 (ipykernel)",
   "language": "python",
   "name": "python3"
  },
  "language_info": {
   "codemirror_mode": {
    "name": "ipython",
    "version": 3
   },
   "file_extension": ".py",
   "mimetype": "text/x-python",
   "name": "python",
   "nbconvert_exporter": "python",
   "pygments_lexer": "ipython3",
   "version": "3.9.7"
  }
 },
 "nbformat": 4,
 "nbformat_minor": 5
}
