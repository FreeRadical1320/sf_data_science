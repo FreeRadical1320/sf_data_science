{
 "cells": [
  {
   "cell_type": "code",
   "execution_count": null,
   "metadata": {},
   "outputs": [],
   "source": [
    "#Вашим заданием в этом модуле будет проанализировать и преобразовать данные о велопоездках клиентов компании Citi Bike (США), \n",
    "# специализирующейся на прокате велосипедов.\n",
    "#Датасет представляет собой таблицу с информацией о 300 тысячах поездок за первые пять дней сентября 2018 года и включает в себя следующую информацию:\n",
    "\n",
    "#starttime — время начала поездки (дата, время);\n",
    "#stoptime — время окончания поездки (дата, время);\n",
    "#start station id — идентификатор стартовой стоянки;\n",
    "#start station name — название стартовой стоянки;\n",
    "#start station latitude, start station longitude — географическая широта и долгота стартовой стоянки;\n",
    "#end station id — идентификатор конечной стоянки;\n",
    "#end station name — название конечной стоянки;\n",
    "#end station latitude, end station longitude — географическая широта и долгота конечной стоянки;\n",
    "#bikeid — идентификатор велосипеда;\n",
    "#usertype — тип пользователя (Customer — клиент с подпиской на 24 часа или на три дня, Subscriber — подписчик с годовой арендой велосипеда);\n",
    "#birth year — год рождения клиента;\n",
    "#gender — пол клиента (0 — неизвестный, 1 — мужчина, 2 — женщина)."
   ]
  },
  {
   "cell_type": "code",
   "execution_count": null,
   "metadata": {},
   "outputs": [],
   "source": [
    "import pandas as pd\n",
    "\n",
    "bike_data = pd.read_csv('data/citibike-tripdata.csv', sep=',')\n",
    "bike_data.head()"
   ]
  },
  {
   "cell_type": "code",
   "execution_count": 2,
   "metadata": {},
   "outputs": [],
   "source": [
    "bike_df = bike_data.copy()"
   ]
  },
  {
   "cell_type": "code",
   "execution_count": null,
   "metadata": {},
   "outputs": [],
   "source": [
    "bike_df.info()"
   ]
  },
  {
   "cell_type": "code",
   "execution_count": null,
   "metadata": {},
   "outputs": [],
   "source": [
    "#Найдите идентификатор самой популярной стартовой стоянки. Запишите идентификатор в виде целого числа.\n",
    "bike_df['start station id'].mode()"
   ]
  },
  {
   "cell_type": "code",
   "execution_count": null,
   "metadata": {},
   "outputs": [],
   "source": [
    "#Велосипед с каким идентификатором является самым популярным?\n",
    "bike_df['bikeid'].mode()[0]"
   ]
  },
  {
   "cell_type": "code",
   "execution_count": null,
   "metadata": {},
   "outputs": [],
   "source": [
    "#Какой тип клиентов (столбец usertype) является преобладающим — Subscriber или Customer? \n",
    "# В качестве ответа запишите долю клиентов преобладающего типа среди общего количества клиентов. Ответ округлите до сотых.\n",
    "bike_df['usertype'].value_counts(normalize=True)"
   ]
  },
  {
   "cell_type": "code",
   "execution_count": null,
   "metadata": {},
   "outputs": [],
   "source": [
    "# Кто больше занимается велоспортом — мужчины или женщины? В ответ запишите число поездок для той группы, у которой их больше.\n",
    "bike_df['gender'].value_counts()"
   ]
  },
  {
   "cell_type": "code",
   "execution_count": null,
   "metadata": {},
   "outputs": [],
   "source": [
    "#\n",
    "bike_df['start station id'].count\n",
    "bike_df['end station id'].count"
   ]
  },
  {
   "cell_type": "code",
   "execution_count": null,
   "metadata": {},
   "outputs": [],
   "source": [
    "bike_df['birth year'].max()"
   ]
  },
  {
   "cell_type": "code",
   "execution_count": null,
   "metadata": {},
   "outputs": [],
   "source": [
    "bike_df['start station name'].value_counts()"
   ]
  },
  {
   "cell_type": "code",
   "execution_count": null,
   "metadata": {},
   "outputs": [],
   "source": [
    "bike_df['end station name'].value_counts()"
   ]
  },
  {
   "cell_type": "code",
   "execution_count": null,
   "metadata": {},
   "outputs": [],
   "source": [
    "#В первую очередь удалим лишнюю информацию из данных.\n",
    "#В наших данных присутствуют столбцы, которые дублируют информацию друг о друге: это столбцы с идентификатором и названием стартовой и конечной стоянки. \n",
    "# Удалите признаки идентификаторов стоянок. Сколько столбцов осталось?\n",
    "bike_df.drop(['start station id','end station id'], axis=1)"
   ]
  },
  {
   "cell_type": "code",
   "execution_count": null,
   "metadata": {},
   "outputs": [],
   "source": [
    "#Замените признак birth year на более понятный признак возраста клиента age. Годом отсчёта возраста выберите 2018 год. \n",
    "# Столбец birth year удалите из таблицы. \n",
    "bike_df['age'] = 2018 - bike_df['birth year']\n",
    "bike_df.drop(['birth year'], axis=1)"
   ]
  },
  {
   "cell_type": "code",
   "execution_count": null,
   "metadata": {},
   "outputs": [],
   "source": [
    "#Сколько поездок совершено клиентами старше 60 лет?\n",
    "bike_df[bike_df['age'] > 60].shape[0]"
   ]
  },
  {
   "cell_type": "code",
   "execution_count": null,
   "metadata": {},
   "outputs": [],
   "source": [
    " #   Создайте признак длительности поездки trip duration. \n",
    " # Для этого вычислите интервал времени между временем окончания поездки (stoptime) и временем её начала (starttime) в секундах. \n",
    " # В качестве ответа запишите среднюю длительность поездки в секундах. Ответ округлите до целого.\n",
    "display(bike_df['starttime'])\n",
    "bike_df['starttime'] = pd.to_datetime(bike_df['starttime'])\n",
    "bike_df['stoptime'] = pd.to_datetime(bike_df['stoptime'])\n",
    "\n",
    "display(bike_df['starttime'])"
   ]
  },
  {
   "cell_type": "code",
   "execution_count": null,
   "metadata": {},
   "outputs": [],
   "source": [
    "#import datetime #!!!!!!!!!!!!!!!!!!!!!!!!!!!!!\n",
    "bike_df['trip duration'] = bike_df['stoptime'] - bike_df['starttime']\n",
    "\n",
    "def time_to_sec(time_std):\n",
    "    n_seconds = time_std.dt.days*86400 + time_std.dt.hours*3600 + time_std.dt.minutes*60 + time_std.dt.seconds\n",
    "    return n_seconds\n",
    "\n",
    "trip_duration = bike_df['trip duration']#.apply(time_to_sec)\n",
    "\n",
    "display(trip_duration)\n",
    "display(trip_duration.dt.seconds.mean())\n",
    "    "
   ]
  },
  {
   "cell_type": "code",
   "execution_count": null,
   "metadata": {},
   "outputs": [],
   "source": [
    "#!!!! Accessor .dt onfy for pandas.Series but not for datetime type!!!!\n",
    "display(bike_df['starttime'])\n",
    "bike_df['weekend'] = bike_df['starttime'].apply(lambda x: 1 if x.dayofweek >=5 else 0)\n",
    "display(bike_df['weekend'].value_counts())"
   ]
  },
  {
   "cell_type": "code",
   "execution_count": null,
   "metadata": {},
   "outputs": [],
   "source": [
    "#Создайте признак времени суток поездки time_of_day. Время суток будем определять из часа начала поездки. Условимся, что:\n",
    "#поездка совершается ночью (night), если её час приходится на интервал от 0 (включительно) до 6 (включительно) часов;\n",
    "#поездка совершается утром (morning), если её час приходится на интервал от 6 (не включительно) до 12 (включительно) часов;\n",
    "#поездка совершается днём (day), если её час приходится на интервал от 12 (не включительно) до 18 (включительно) часов;\n",
    "#поездка совершается вечером (evening), если её час приходится на интервал от 18 (не включительно) до 23 часов (включительно).\n",
    "#Во сколько раз количество поездок, совершённых днём, больше, чем количество поездок, совёршенных ночью, за представленный в данных период времени? \n",
    "# Ответ округлите до целых.\n",
    "\n",
    "def get_part_of_day(t_time):\n",
    "    t_hour = t_time.hour\n",
    "    if t_hour >= 0 and t_hour <= 6:\n",
    "        return 'night'\n",
    "    if t_hour > 6 and t_hour <= 12:\n",
    "        return 'morning'\n",
    "    if t_hour > 12 and t_hour <= 18:\n",
    "        return 'day'\n",
    "    if t_hour > 18 and t_hour <= 23:\n",
    "        return 'evening'\n",
    "\n",
    "\n",
    "bike_df['time_of_day'] = bike_df['starttime'].apply(get_part_of_day)\n",
    "display(bike_df['time_of_day'])\n",
    "display(bike_df['time_of_day'].value_counts())"
   ]
  },
  {
   "cell_type": "code",
   "execution_count": 33,
   "metadata": {},
   "outputs": [
    {
     "data": {
      "text/plain": [
       "9.480411004308916"
      ]
     },
     "metadata": {},
     "output_type": "display_data"
    }
   ],
   "source": [
    "display(bike_df['time_of_day'].value_counts()['day']/bike_df['time_of_day'].value_counts()['night'])"
   ]
  }
 ],
 "metadata": {
  "interpreter": {
   "hash": "529b7f63ca761d478d1bd774f0b581ad3b5625a5e231408b9454a82606df15ca"
  },
  "kernelspec": {
   "display_name": "Python 3.8.12 64-bit ('sf': conda)",
   "language": "python",
   "name": "python3"
  },
  "language_info": {
   "codemirror_mode": {
    "name": "ipython",
    "version": 3
   },
   "file_extension": ".py",
   "mimetype": "text/x-python",
   "name": "python",
   "nbconvert_exporter": "python",
   "pygments_lexer": "ipython3",
   "version": "3.8.12"
  },
  "orig_nbformat": 4
 },
 "nbformat": 4,
 "nbformat_minor": 2
}
